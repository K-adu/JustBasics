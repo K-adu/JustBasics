{
 "cells": [
  {
   "cell_type": "code",
   "execution_count": 7,
   "metadata": {},
   "outputs": [
    {
     "name": "stdout",
     "output_type": "stream",
     "text": [
      "x_n\t   py_n\t           y_n\n",
      "0.0 \t    nan \t 2.000000\n",
      "0.1 \t 2.400000 \t 2.445000\n",
      "0.2 \t 2.944000 \t 2.998900\n",
      "0.30000000000000004 \t 3.618680 \t 3.685658\n",
      "0.4 \t 4.452790 \t 4.534503\n",
      "0.5 \t 5.481403 \t 5.581093\n",
      "0.6000000000000001 \t 6.747312 \t 6.868934\n",
      "0.7000000000000001 \t 8.302721 \t 8.451099\n",
      "0.8 \t 10.211319 \t 10.392341\n",
      "0.9 \t 12.550809 \t 12.771656\n",
      "1.0 \t 15.415988 \t 15.685421\n",
      "x_n\t    y_n\n",
      "0.0 \t 2.000000\n",
      "0.1 \t 2.400000\n",
      "0.2 \t 2.890000\n",
      "0.30000000000000004 \t 3.488000\n",
      "0.4 \t 4.215600\n",
      "0.5 \t 5.098720\n",
      "0.6000000000000001 \t 6.168464\n",
      "0.7000000000000001 \t 7.462157\n",
      "0.8 \t 9.024588\n",
      "0.9 \t 10.909506\n",
      "1.0 \t 13.181407\n"
     ]
    }
   ],
   "source": [
    "import numpy as np\n",
    "from matplotlib import pyplot as plt\n",
    "\n",
    "x0 = 0\n",
    "y0 = 2\n",
    "xf = 1\n",
    "n = 11\n",
    "deltax = (xf-x0)/(n-1)\n",
    "x = np.linspace(x0,xf,n)\n",
    "def f(x,y):\n",
    "\treturn \n",
    "\n",
    "y = np.zeros([n])\n",
    "y[0] = y0\n",
    "py = np.zeros([n])\n",
    "py[0] = None\n",
    "\n",
    "def euler(x0,y0,xf,n,deltax,x,f,y,py):\n",
    "    for i in range(1,n):\n",
    "        py[i] = deltax*f(x[i-1],y[i-1]) + y[i-1]\n",
    "        y[i] = deltax/2*( f(x[i],py[i]) + f(x[i-1],y[i-1]) ) + y[i-1]\n",
    "    print(\"x_n\\t   py_n\\t           y_n\")\n",
    "    for i in range(n):\n",
    "        print (x[i],\"\\t\",format(py[i],'6f'),\"\\t\",format(y[i],'6f'))\n",
    "    \n",
    "\n",
    "def modified_euler(x0,y0,xf,n,deltax,x,f,y,py):\n",
    "    for i in range(1,n):\n",
    "        y[i] = deltax*f(x[i-1],y0) + y0\n",
    "        y0 = y[i]\n",
    "\n",
    "    print(\"x_n\\t    y_n\")\n",
    "    for i in range(n):\n",
    "        print(x[i],\"\\t\",format(y[i],'6f'))\n",
    "euler(x0,y0,xf,n,deltax,x,f,y,py)\n",
    "modified_euler(x0,y0,xf,n,deltax,x,f,y,py)"
   ]
  },
  {
   "cell_type": "code",
   "execution_count": null,
   "metadata": {},
   "outputs": [],
   "source": []
  }
 ],
 "metadata": {
  "kernelspec": {
   "display_name": "Python 3",
   "language": "python",
   "name": "python3"
  },
  "language_info": {
   "codemirror_mode": {
    "name": "ipython",
    "version": 3
   },
   "file_extension": ".py",
   "mimetype": "text/x-python",
   "name": "python",
   "nbconvert_exporter": "python",
   "pygments_lexer": "ipython3",
   "version": "3.8.5"
  }
 },
 "nbformat": 4,
 "nbformat_minor": 4
}
